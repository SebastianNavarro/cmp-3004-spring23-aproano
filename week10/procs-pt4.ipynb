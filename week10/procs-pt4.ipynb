{
 "cells": [
  {
   "cell_type": "markdown",
   "id": "c4079ebb",
   "metadata": {
    "slideshow": {
     "slide_type": "slide"
    }
   },
   "source": [
    "## CMP-3004\n",
    "## Computer Organization\n",
    "\n",
    "### Spring 2023\n"
   ]
  },
  {
   "cell_type": "markdown",
   "id": "c33453bb",
   "metadata": {
    "slideshow": {
     "slide_type": "slide"
    }
   },
   "source": [
    "## Review "
   ]
  },
  {
   "cell_type": "markdown",
   "id": "b11c7c34",
   "metadata": {
    "slideshow": {
     "slide_type": "subslide"
    }
   },
   "source": [
    "### Non-pipelined v. pipelined\n",
    "\n",
    "![](../images/pipe4.png)\n",
    "\n",
    "- In a pipelined design, the clock cycle must have the worst-case clock cycle of 200 ps"
   ]
  },
  {
   "cell_type": "markdown",
   "id": "00e65cd0",
   "metadata": {
    "slideshow": {
     "slide_type": "subslide"
    }
   },
   "source": [
    "## Pipeline hazards\n",
    "\n",
    "There are situations in pipelining when the next instruction cannot execute in the\n",
    "following clock cycle\n",
    "\n"
   ]
  },
  {
   "cell_type": "markdown",
   "id": "65e6ab59",
   "metadata": {
    "slideshow": {
     "slide_type": "subslide"
    }
   },
   "source": [
    "### Structural hazards\n",
    "\n",
    "The hardware cannot support the combination of instructions that are requested to be executed in the same clock cycle\n",
    "\n",
    "- Washer-dryer combination instead of a separate washer and dryer\n",
    "- MIPS has two memories. Without two memories, the pipeline could have a structural hazard \n",
    "    - accessing data v. fetching instruction"
   ]
  },
  {
   "cell_type": "markdown",
   "id": "b5b1d6eb",
   "metadata": {
    "slideshow": {
     "slide_type": "subslide"
    }
   },
   "source": [
    "### Data hazards\n",
    "\n",
    "The pipeline must be stalled because one step must wait for another to complete\n",
    "\n",
    "- Dependence of one instruction on an earlier one that is still in the pipeline\n",
    "\n",
    "```\n",
    "add $s0, $t0, $t1\n",
    "sub $t2, $s0, $t3\n",
    "```\n",
    "\n",
    "- The add instruction doesn’t write the result until the fifth stage. Three clock cycles in the pipeline are wasted\n",
    "\n",
    "    - Solution: waiting for instruction completion before trying to resolve the data hazard is not required\n",
    "    - As soon as the ALU creates the sum for the add, it can be supplied as an input for the subtract"
   ]
  },
  {
   "cell_type": "markdown",
   "id": "11c282bb",
   "metadata": {
    "slideshow": {
     "slide_type": "subslide"
    }
   },
   "source": [
    "### Forwarding or Bypassing\n",
    "\n",
    "- Extra hardware is added to retrieve the missing item early from the internal resources\n",
    "- Forwarding paths are valid only if the destination stage is later in time than the source stage\n",
    "\n",
    "![](../images/pipe5.png)"
   ]
  },
  {
   "cell_type": "markdown",
   "id": "1d05fc28",
   "metadata": {
    "slideshow": {
     "slide_type": "subslide"
    }
   },
   "source": [
    "### Stalling\n",
    "\n",
    "It cannot prevent all pipeline stalls. A stall is needed when an R-format instruction follows a load\n",
    "\n",
    "```\n",
    "lw $s0, 20($t1)\n",
    "sub $t2, $s0, $t3\n",
    "```\n",
    "\n",
    "![](../images/pipe6.png)"
   ]
  },
  {
   "cell_type": "markdown",
   "id": "a5e322ee",
   "metadata": {
    "slideshow": {
     "slide_type": "subslide"
    }
   },
   "source": [
    "### Control hazards\n",
    "\n",
    "A decision is made based on the results of one instruction while others are executing\n",
    "\n",
    "- The instruction following the branch instruction must be fetched on the next clock cycle. Nevertheless, the pipeline cannot possibly know what is the next instruction\n",
    "\n",
    "- **Option 1:** after fetching a branch, wait until to determine the instruction address to fetch from (stall: larger slowdown)\n",
    "\n",
    "- **Option 2:** predicting what branches are taken and what are not. Dynamic hardware predictors provide behavioral-based prediction for each branch and may change predictions over the life of a program\n",
    "\n",
    "    - Analyze the history of taken or untaken branches to predict the future​"
   ]
  },
  {
   "cell_type": "markdown",
   "id": "8a13df85",
   "metadata": {
    "slideshow": {
     "slide_type": "subslide"
    }
   },
   "source": [
    "### Control hazards\n",
    "\n",
    "![](../images/pipe7.png)"
   ]
  },
  {
   "cell_type": "markdown",
   "id": "5dc401d5",
   "metadata": {
    "slideshow": {
     "slide_type": "subslide"
    }
   },
   "source": [
    "###  Delayed decision\n",
    "\n",
    "- **Option 3:** delayed decision (MIPS). The delayed branch always executes the next sequential instruction, with the branch taking place after that one instruction delay\n",
    "    - Execute something independent from the branch, so that cycle is not wasted\n",
    "- MIPS software always schedules a branch-independent instruction after the branch, and a taken branch changes the address of the instruction that follows this safe instruction"
   ]
  },
  {
   "cell_type": "markdown",
   "id": "6dd086ac",
   "metadata": {
    "slideshow": {
     "slide_type": "subslide"
    }
   },
   "source": [
    "## Pipelined datapath and control\n",
    "\n",
    "We can structure our datapath in a way that we can execute up to five instructions in the same cycle.\n",
    "\n",
    "We separate the instructions into five pieces:\n",
    "\n",
    "1. IF: Instruction fetch\n",
    "2. ID: Instruction decode and register fi le read\n",
    "3. EX: Execution or address calculation\n",
    "4. MEM: Data memory access\n",
    "5. WB: Write back"
   ]
  },
  {
   "cell_type": "markdown",
   "id": "4ffba63e",
   "metadata": {
    "slideshow": {
     "slide_type": "subslide"
    }
   },
   "source": [
    "### Pipelined datapath and control\n",
    "\n",
    "![](../images/pipe_dp1.png)"
   ]
  },
  {
   "cell_type": "markdown",
   "id": "bb0a0d74",
   "metadata": {
    "slideshow": {
     "slide_type": "subslide"
    }
   },
   "source": [
    "### Pipelined execution\n",
    "\n",
    "Let's pretend each instruction has its own datapath\n",
    "\n",
    "![](../images/pipe_dp2.png)\n",
    "\n",
    "- to allow sharing of resources, we need to have registers wherever there are dividing lines\n",
    "    - for example: IM is used only in one stage, to retain the value (for the other four stages) we should move it to a register\n",
    "- in the laundry analogy, we need to have basket between each state to move the clothes around"
   ]
  },
  {
   "cell_type": "markdown",
   "id": "45dcf101",
   "metadata": {
    "slideshow": {
     "slide_type": "subslide"
    }
   },
   "source": [
    "### Pipelined datapath with registers\n",
    "\n",
    "All instructions advance during each clock cycle from one pipeline register to the next\n",
    "\n",
    "![](../images/pipe_dp3.png)"
   ]
  },
  {
   "cell_type": "markdown",
   "id": "cdb087ff",
   "metadata": {
    "slideshow": {
     "slide_type": "subslide"
    }
   },
   "source": [
    "### Stage 1\n",
    "\n",
    "- Example: lw instruction\n",
    "- Increment address (PC+4) is saved in the IF/ID pipeline register to be used later (e.g. BEQ) \n",
    "\n",
    "![](../images/pipe_dp4.png)"
   ]
  },
  {
   "cell_type": "markdown",
   "id": "a7a09300",
   "metadata": {
    "slideshow": {
     "slide_type": "subslide"
    }
   },
   "source": [
    "### Stage 2\n",
    "\n",
    "- 16-bit immediate instruction field, two registers numbers and the incremented PC are stored in in the ID/EX pipeline register.\n",
    "\n",
    "![](../images/pipe_dp5.png)\n"
   ]
  },
  {
   "cell_type": "markdown",
   "id": "96068bc1",
   "metadata": {
    "slideshow": {
     "slide_type": "subslide"
    }
   },
   "source": [
    "### Stage 3\n",
    "\n",
    "- ALU calculates the memory address and saves then in the EX/MEM pipeline register\n",
    "\n",
    "![](../images/pipe_dp6.png)\n"
   ]
  },
  {
   "cell_type": "markdown",
   "id": "8de47841",
   "metadata": {
    "slideshow": {
     "slide_type": "subslide"
    }
   },
   "source": [
    "### Stage 4\n",
    "\n",
    "- Data memory is read using the address from EX/MEM and loading the data in MEM/WB pipeline register\n",
    "\n",
    "![](../images/pipe_dp7.png)"
   ]
  },
  {
   "cell_type": "markdown",
   "id": "14d8fe91",
   "metadata": {
    "slideshow": {
     "slide_type": "subslide"
    }
   },
   "source": [
    "### Stage 5\n",
    "\n",
    "- Data memory is read from MEM/WB and written into the destination register file \n",
    "- The destination register number must be preserved along the stages\n",
    "\n",
    "![](../images/pipe_dp8.png)\n",
    "\n",
    "**Problem:** The instruction in the IF/ID pipeline register supplies the write register number. **This value gets overwritten by the next instruction**"
   ]
  },
  {
   "cell_type": "markdown",
   "id": "3175b673",
   "metadata": {
    "slideshow": {
     "slide_type": "subslide"
    }
   },
   "source": [
    "### Corrected pipeline\n",
    "\n",
    "![](../images/pipe_dp9.png)"
   ]
  },
  {
   "cell_type": "markdown",
   "id": "0b72ee08",
   "metadata": {
    "slideshow": {
     "slide_type": "subslide"
    }
   },
   "source": [
    "### Control values\n",
    "\n",
    "The control values stayed the same but we still need registers to preserve their state\n",
    "\n",
    "![](../images/pipe_dp10.png)"
   ]
  },
  {
   "cell_type": "markdown",
   "id": "672d39ad",
   "metadata": {
    "slideshow": {
     "slide_type": "subslide"
    }
   },
   "source": [
    "### Control values pipeline\n",
    "\n",
    "Control signals are used in the appropriate pipeline stage as the instruction moves down the pipeline​\n",
    "\n",
    "![](../images/pipe_dp11.png)"
   ]
  },
  {
   "cell_type": "markdown",
   "id": "3a2f88dd",
   "metadata": {
    "slideshow": {
     "slide_type": "subslide"
    }
   },
   "source": [
    "### Full pipeline\n",
    "\n",
    "![](../images/pipe_dp12.png)"
   ]
  },
  {
   "cell_type": "markdown",
   "id": "42f32451",
   "metadata": {
    "slideshow": {
     "slide_type": "slide"
    }
   },
   "source": [
    "## Data hazards\n",
    "\n",
    "```\n",
    "sub $2, $1,$3 # Register $2 written by sub\n",
    "and $12,$2,$5 # 1st operand($2) depends on sub\n",
    "or $13,$6,$2 # 2nd operand($2) depends on sub\n",
    "add $14,$2,$2 # 1st($2) & 2nd($2) depend on sub\n",
    "sw $15,100($2) # Base ($2) depends on sub\n",
    "```\n",
    "- The last four instructions are all dependent on the result in register `$2` of the\n",
    "first instruction\n",
    "\n",
    "- If register `$2` had the value 10 before the subtract instruction and −20 afterwards, the programmer intends that −20 will be used in the following instructions that refer to register `$2`"
   ]
  },
  {
   "cell_type": "markdown",
   "id": "5c950d22",
   "metadata": {
    "slideshow": {
     "slide_type": "subslide"
    }
   },
   "source": [
    "### Problems with this example\n",
    "\n",
    "![](../images/pipe_dp13.png)"
   ]
  },
  {
   "cell_type": "markdown",
   "id": "aeea8608",
   "metadata": {
    "slideshow": {
     "slide_type": "subslide"
    }
   },
   "source": [
    "### Dependencies\n",
    "\n",
    "- It is possible to supply the inputs to the ALU needed by the AND instruction and OR instruction by forwarding the results found in the pipeline registers\n",
    "\n",
    "![](../images/pipe_dp14.png)"
   ]
  },
  {
   "cell_type": "markdown",
   "id": "4a1eabeb",
   "metadata": {
    "slideshow": {
     "slide_type": "subslide"
    }
   },
   "source": [
    "### Forwarding unit\n",
    "\n",
    "We now add multiplexors to add the forwarding paths, and a forwarding unit to select the proper path.\n",
    "\n",
    "![](../images/pipe_dp15.png)"
   ]
  },
  {
   "cell_type": "markdown",
   "id": "a672e353",
   "metadata": {
    "slideshow": {
     "slide_type": "subslide"
    }
   },
   "source": [
    "### Forwarding control signals\n",
    "\n",
    "![](../images/pipe_dp16.png)"
   ]
  },
  {
   "cell_type": "markdown",
   "id": "7a39de32",
   "metadata": {
    "slideshow": {
     "slide_type": "subslide"
    }
   },
   "source": [
    "### Datapath with forwarding unit\n",
    "\n",
    "![](../images/pipe_dp17.png)"
   ]
  },
  {
   "cell_type": "markdown",
   "id": "efbcd447",
   "metadata": {
    "slideshow": {
     "slide_type": "subslide"
    }
   },
   "source": [
    "### Other hazards\n",
    "\n",
    "![](../images/pipe_dp18.png)"
   ]
  },
  {
   "cell_type": "markdown",
   "id": "86d768fc",
   "metadata": {
    "slideshow": {
     "slide_type": "subslide"
    }
   },
   "source": [
    "### Stalling\n",
    "\n",
    "![](../images/pipe_dp19.png)"
   ]
  },
  {
   "cell_type": "markdown",
   "id": "0ddb4394",
   "metadata": {
    "slideshow": {
     "slide_type": "subslide"
    }
   },
   "source": [
    "### Hazard detection\n",
    "\n",
    "![](../images/pipe_dp20.png)"
   ]
  }
 ],
 "metadata": {
  "celltoolbar": "Slideshow",
  "kernelspec": {
   "display_name": "Python 3",
   "language": "python",
   "name": "python3"
  },
  "language_info": {
   "codemirror_mode": {
    "name": "ipython",
    "version": 3
   },
   "file_extension": ".py",
   "mimetype": "text/x-python",
   "name": "python",
   "nbconvert_exporter": "python",
   "pygments_lexer": "ipython3",
   "version": "3.8.8"
  }
 },
 "nbformat": 4,
 "nbformat_minor": 5
}
