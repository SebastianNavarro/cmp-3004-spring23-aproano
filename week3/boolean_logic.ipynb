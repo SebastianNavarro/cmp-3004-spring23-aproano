{
 "cells": [
  {
   "cell_type": "markdown",
   "id": "c4079ebb",
   "metadata": {
    "slideshow": {
     "slide_type": "slide"
    }
   },
   "source": [
    "## CMP-3004\n",
    "## Computer Organization\n",
    "\n",
    "### Spring 2023\n"
   ]
  },
  {
   "cell_type": "markdown",
   "id": "0791c13b",
   "metadata": {
    "slideshow": {
     "slide_type": "slide"
    }
   },
   "source": [
    "## How do we represent binary numbers in electronics? "
   ]
  },
  {
   "cell_type": "markdown",
   "id": "4a422546",
   "metadata": {
    "slideshow": {
     "slide_type": "subslide"
    }
   },
   "source": [
    "## Relays (electro-mechanical)\n",
    "![](../images/how-a-relay-works.gif)\n",
    "\n",
    "- Use a magnetic field to close a circuit\n",
    "- Uses mechanical parts \n",
    "- Very few ON/OFF operations per second\n",
    "- The Z3 computer used 2,600 relays achieving 5–10 Hz [source](https://en.wikipedia.org/wiki/Z3_(computer))\n"
   ]
  },
  {
   "cell_type": "markdown",
   "id": "1d17b13b",
   "metadata": {
    "slideshow": {
     "slide_type": "subslide"
    }
   },
   "source": [
    "### Vacuum Tubes\n",
    "\n",
    "\n",
    "\n",
    "<img src=\"../images/tubes1.png\" alt=\"Drawing\" style=\"width: 400px;\"/>\n",
    "\n",
    "[source](https://www.engineering.com/story/vacuum-tubes-the-world-before-transistors)\n",
    "\n",
    "- Improvement over relays\n",
    "- No use of mechanical parts\n",
    "- The voltage of the mesh allow electrons to pass or not\n",
    "- Used widely in radios and televisions\n",
    "- The Colossus MK 1 (first electronic and programable computer) 1,600 used vacuum tubes [source](https://en.wikipedia.org/wiki/Colossus_computer)"
   ]
  },
  {
   "cell_type": "markdown",
   "id": "4f522c72",
   "metadata": {
    "slideshow": {
     "slide_type": "subslide"
    }
   },
   "source": [
    "### Transistors\n",
    "\n",
    "<img src=\"../images/transistor.png\" alt=\"Drawing\" style=\"width: 200px;\"/>\n",
    "\n",
    "\n",
    "\n",
    "- Just like a relay or vacuum tube\n",
    "- It allows or stop current from flowing\n",
    "- First transistor could switch between ON and OFF states more than 10,000 per second\n",
    "- Made of solid material\n",
    "    - smaller\n",
    "    - cheaper\n",
    "    - more reliable\n",
    "- Today computers use transistors that are < 50 nm in size"
   ]
  },
  {
   "cell_type": "markdown",
   "id": "116bd52b",
   "metadata": {
    "slideshow": {
     "slide_type": "slide"
    }
   },
   "source": [
    "## Boolean algebra\n",
    "\n",
    "- Operations based on True and False values\n",
    "- When electricity is flowing we'll call it True, otherwise False\n",
    "- True and False can be represented as 1 and 0\n",
    "- Three main operations\n",
    "    - NOT\n",
    "    - AND\n",
    "    - OR\n"
   ]
  },
  {
   "cell_type": "markdown",
   "id": "6a52bab9",
   "metadata": {
    "slideshow": {
     "slide_type": "subslide"
    }
   },
   "source": [
    "### Table of truth of a transistor\n",
    "\n",
    "<img src=\"../images/transistor.png\" alt=\"Drawing\" style=\"width: 200px;\"/>\n",
    "\n",
    "\n",
    "\n",
    "| Input | Output|\n",
    "| --- | --- |\n",
    "| True | True |\n",
    "| False | False |"
   ]
  },
  {
   "cell_type": "markdown",
   "id": "d3a54365",
   "metadata": {
    "slideshow": {
     "slide_type": "subslide"
    }
   },
   "source": [
    "### NOT\n",
    "\n",
    "| Input | Output|\n",
    "| --- | --- |\n",
    "| True | False |\n",
    "| False | True |\n",
    "\n",
    "![](../images/not.png)"
   ]
  },
  {
   "cell_type": "markdown",
   "id": "c2b19ff0",
   "metadata": {
    "slideshow": {
     "slide_type": "subslide"
    }
   },
   "source": [
    "### AND\n",
    "\n",
    "| Input A | Input B |Output|\n",
    "| --- | --- | --- |\n",
    "| True | True | True |\n",
    "| True | False | False |\n",
    "| False | True | False |\n",
    "| False | False | False |\n",
    "\n",
    "\n",
    "![](../images/and.png)"
   ]
  },
  {
   "cell_type": "markdown",
   "id": "ec83977c",
   "metadata": {
    "slideshow": {
     "slide_type": "subslide"
    }
   },
   "source": [
    "### OR\n",
    "\n",
    "| Input A | Input B |Output|\n",
    "| --- | --- | --- |\n",
    "| True | True | True |\n",
    "| True | False | True |\n",
    "| False | True | True |\n",
    "| False | False | False |\n",
    "\n",
    "\n",
    "![](../images/or.png)"
   ]
  },
  {
   "cell_type": "markdown",
   "id": "b6bf82c4",
   "metadata": {
    "slideshow": {
     "slide_type": "subslide"
    }
   },
   "source": [
    "### Exclusive OR (XOR)\n",
    "\n",
    "| Input A | Input B |Output|\n",
    "| --- | --- | --- |\n",
    "| True | True | False |\n",
    "| True | False | True |\n",
    "| False | True | True |\n",
    "| False | False | False |\n",
    "\n",
    "\n",
    "![](../images/xor.png)\n",
    "\n"
   ]
  },
  {
   "cell_type": "markdown",
   "id": "0e6a5c52",
   "metadata": {
    "slideshow": {
     "slide_type": "subslide"
    }
   },
   "source": [
    "### NAND\n",
    "\n",
    "| Input A | Input B |Output|\n",
    "| --- | --- | --- |\n",
    "| True | True | False |\n",
    "| True | False | True |\n",
    "| False | True | True |\n",
    "| False | False | True |\n",
    "\n",
    "\n",
    "![](../images/nand.png)"
   ]
  },
  {
   "cell_type": "markdown",
   "id": "0d1f46aa",
   "metadata": {
    "slideshow": {
     "slide_type": "subslide"
    }
   },
   "source": [
    "### NOR\n",
    "\n",
    "| Input A | Input B |Output|\n",
    "| --- | --- | --- |\n",
    "| True | True | False |\n",
    "| True | False | False |\n",
    "| False | True | False |\n",
    "| False | False | True |\n",
    "\n",
    "\n",
    "![](../images/nor.png)"
   ]
  },
  {
   "cell_type": "markdown",
   "id": "87d10757",
   "metadata": {
    "slideshow": {
     "slide_type": "slide"
    }
   },
   "source": [
    "## Arithmetic and Logic Unit (ALU)\n",
    "\n",
    "- Part of the processor\n",
    "- Mathematical brain of a computer\n",
    "- It does all the computations in a computer\n",
    "    - Arithmetic Unit\n",
    "    - Logic unit"
   ]
  },
  {
   "cell_type": "markdown",
   "id": "f9462d5e",
   "metadata": {
    "slideshow": {
     "slide_type": "subslide"
    }
   },
   "source": [
    "### How do we add numbers with circuits?\n",
    "\n",
    "Let's start with 2 1-bit inputs.\n",
    "\n",
    "- 0 + 0 = 0\n",
    "- 1 + 0 = 1\n",
    "- 0 + 1 = 1\n",
    "- 1 + 1 = 0\n",
    "    - 1 is carried to the next column\n",
    "    \n",
    "What gate can help us with this operation?"
   ]
  },
  {
   "cell_type": "markdown",
   "id": "f1596e7a",
   "metadata": {
    "slideshow": {
     "slide_type": "subslide"
    }
   },
   "source": [
    "### How do we add numbers with circuits?\n",
    "\n",
    "- We use XOR and AND gates to define a half adder\n",
    "\n",
    "| A | B | Carry | Sum |\n",
    "| --- | --- | --- | --- |\n",
    "| 0 | 0 | 0 | 0 |\n",
    "| 0 | 1 | 0 | 1 |\n",
    "| 1 | 0 | 0 | 1 |\n",
    "| 1 | 1 | 1 | 0 |\n",
    "\n",
    "![](../images/half-adder.png)"
   ]
  },
  {
   "cell_type": "markdown",
   "id": "422e71ba",
   "metadata": {
    "slideshow": {
     "slide_type": "subslide"
    }
   },
   "source": [
    "## Full adder\n",
    "\n",
    "| A | B | C | Carry | Sum |\n",
    "| --- | --- | --- |  --- | --- |\n",
    "| 0 | 0 | 0 | 0 | 0 |\n",
    "| 0 | 0 | 1 | 0 | 1 |\n",
    "| 0 | 1 | 0 | 0 | 1 |\n",
    "| 0 | 1 | 1 | 1 | 0 |\n",
    "| 1 | 0 | 0 | 0 | 1 |\n",
    "| 1 | 0 | 1 | 1 | 0 |\n",
    "| 1 | 1 | 0 | 1 | 0 |\n",
    "| 1 | 1 | 1 | 1 | 1 |\n",
    "\n",
    "![](../images/full-adder.png)\n"
   ]
  },
  {
   "cell_type": "markdown",
   "id": "da0dd844",
   "metadata": {
    "slideshow": {
     "slide_type": "slide"
    }
   },
   "source": [
    "### Homework\n",
    "\n",
    "Follow this tutorial on how to build a logic circuit simulator in Python\n",
    "\n",
    "http://openbookproject.net/courses/python4fun/logic.html"
   ]
  }
 ],
 "metadata": {
  "celltoolbar": "Slideshow",
  "kernelspec": {
   "display_name": "Python 3",
   "language": "python",
   "name": "python3"
  },
  "language_info": {
   "codemirror_mode": {
    "name": "ipython",
    "version": 3
   },
   "file_extension": ".py",
   "mimetype": "text/x-python",
   "name": "python",
   "nbconvert_exporter": "python",
   "pygments_lexer": "ipython3",
   "version": "3.8.8"
  }
 },
 "nbformat": 4,
 "nbformat_minor": 5
}
