{
 "cells": [
  {
   "cell_type": "markdown",
   "id": "a2665cc8",
   "metadata": {},
   "source": [
    "## CMP-3004\n",
    "## Computer Organization\n",
    "\n",
    "### Spring 2023"
   ]
  },
  {
   "cell_type": "markdown",
   "id": "df038792",
   "metadata": {},
   "source": [
    "## Homework 1\n",
    "\n",
    "We are going to work on a tutorial that help us define a digital logic simulator:\n",
    "- Follow instructions [here](http://openbookproject.net/courses/python4fun/logic.html)\n",
    "- Write the simulator using OOP in Python\n",
    "- Use classes to define different gates and other operators like half-adders, full-adders, etc\n",
    "- The final goal will be to simulate a simple 8-bit ALU"
   ]
  },
  {
   "cell_type": "markdown",
   "id": "54d3ec6e",
   "metadata": {},
   "source": [
    "## Requirements\n",
    "\n",
    "Write an 8-bit ALU with the following specifications:\n",
    "\n",
    "Arithmetic operations (output is 8-bit and 1-bit flags):\n",
    "- Addition with carry\n",
    "- Substraction with borrow\n",
    "- Negate a number\n",
    "- Increment (add +1)\n",
    "- Decrement (substract -1)\n",
    "- Pass through\n",
    "- Negate\n",
    "- XOR\n",
    "- OR\n",
    "- AND\n",
    "\n",
    "Logical operations (output is a 1-bit flag)\n",
    "- Check if a number is negative\n",
    "- Check if a number is zero\n",
    "- Operation caused an overflow\n",
    "- Check if number is all ones\n",
    "\n",
    "Show an example for each arithmetic and logical operation"
   ]
  },
  {
   "cell_type": "code",
   "execution_count": 7,
   "id": "e867b8f3",
   "metadata": {},
   "outputs": [
    {
     "name": "stdout",
     "output_type": "stream",
     "text": [
      "['Sebastian E', 'Sebastian N', 'Paula', 'Daniela']\n",
      "['Nicolas', 'Alex', 'Andres', 'Randall']\n",
      "['Israel', 'Daniel', 'Juan C', 'Christian']\n",
      "['Juan V', 'Cesar', 'Johana', 'Edwin']\n"
     ]
    }
   ],
   "source": [
    "import random\n",
    "C = ['Pablo', 'Paula', 'Cesar', 'Juan C', 'Johana', 'Sebastian E', \n",
    "     'Andres', 'Israel', 'Edwin', 'Daniela', 'Randall', 'Nicolas',\n",
    "     'Sebastian N', 'Daniel', 'Alex', 'Christian', 'Juan V']\n",
    "gr = 1\n",
    "n = 4\n",
    "counter = 0\n",
    "group = []\n",
    "m = len(C)\n",
    "for _ in range(m):\n",
    "    if counter == n:\n",
    "        print(group)\n",
    "        group = []\n",
    "        counter = 0\n",
    "    person = random.choice(C)\n",
    "    group.append(person)\n",
    "    counter += 1 \n",
    "    C.remove(person)"
   ]
  },
  {
   "cell_type": "code",
   "execution_count": null,
   "id": "b2403ef1",
   "metadata": {},
   "outputs": [],
   "source": [
    "# Pablo en el grupo de Juan V, Ce"
   ]
  }
 ],
 "metadata": {
  "kernelspec": {
   "display_name": "Python 3",
   "language": "python",
   "name": "python3"
  },
  "language_info": {
   "codemirror_mode": {
    "name": "ipython",
    "version": 3
   },
   "file_extension": ".py",
   "mimetype": "text/x-python",
   "name": "python",
   "nbconvert_exporter": "python",
   "pygments_lexer": "ipython3",
   "version": "3.8.8"
  }
 },
 "nbformat": 4,
 "nbformat_minor": 5
}
