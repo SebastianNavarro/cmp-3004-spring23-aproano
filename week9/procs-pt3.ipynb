{
 "cells": [
  {
   "cell_type": "markdown",
   "id": "c4079ebb",
   "metadata": {
    "slideshow": {
     "slide_type": "slide"
    }
   },
   "source": [
    "## CMP-3004\n",
    "## Computer Organization\n",
    "\n",
    "### Spring 2023\n"
   ]
  },
  {
   "cell_type": "markdown",
   "id": "b67b8f60",
   "metadata": {
    "slideshow": {
     "slide_type": "subslide"
    }
   },
   "source": [
    "### Architecture of the processor\n",
    "\n",
    "![](../images/mips2.png)"
   ]
  },
  {
   "cell_type": "markdown",
   "id": "247ca1fc",
   "metadata": {
    "slideshow": {
     "slide_type": "subslide"
    }
   },
   "source": [
    "### Datapath with control unit\n",
    "\n",
    "![](../images/mips15.png)"
   ]
  },
  {
   "cell_type": "markdown",
   "id": "39963fb7",
   "metadata": {
    "slideshow": {
     "slide_type": "slide"
    }
   },
   "source": [
    "## Pipelining\n",
    "\n",
    "Pipelining is an implementation technique in which multiple instructions are overlapped in execution\n",
    "\n",
    "- To motivate, assume we have four people doing laundry (washing, drying, folding and storing)\n",
    "- Each activity takes 30 minutes, so the total is 8 hours\n",
    "\n",
    "![](../images/pipe1.png)"
   ]
  },
  {
   "cell_type": "markdown",
   "id": "9f87af7a",
   "metadata": {
    "slideshow": {
     "slide_type": "subslide"
    }
   },
   "source": [
    "## Pipelining\n",
    "\n",
    "- We can orchestrate such that each resource is being used at all times\n",
    "    - As a result we reduce the total execution time 3 hours and 30 minutes\n",
    "\n",
    "![](../images/pipe2.png)"
   ]
  },
  {
   "cell_type": "markdown",
   "id": "91895032",
   "metadata": {
    "slideshow": {
     "slide_type": "slide"
    }
   },
   "source": [
    "### Pipelining in MIPS\n",
    "\n",
    "MIPS instructions take five steps:\n",
    "\n",
    "- Fetch instruction from memory (IF)\n",
    "- Read registers while decoding the instruction. The regular format of MIPS instructions allows reading and decoding to occur simultaneously (ID)\n",
    "- Execute the operation or calculate an address (EX)\n",
    "- Access an operand in data memory (MEM)\n",
    "- Write the result into a register (WB)"
   ]
  },
  {
   "cell_type": "markdown",
   "id": "491815b3",
   "metadata": {
    "slideshow": {
     "slide_type": "subslide"
    }
   },
   "source": [
    "### Latency MIPS instructions\n",
    "\n",
    "Let's consider the latencies for a few of the main MIPS intructions\n",
    "- The single-cycle design must allow for the slowest instruction, so the time required for every instruction is 800 ps\n",
    "- We assume multiplexors, control unit, PC accesses, and sign extension unit have no delay\n",
    "- In a non-pipelined design, the clock cycle must have the worst-case clock cycle of 800 ps\n",
    "\n",
    "![](../images/pipe3.png)\n",
    "\n"
   ]
  },
  {
   "cell_type": "markdown",
   "id": "b11c7c34",
   "metadata": {
    "slideshow": {
     "slide_type": "subslide"
    }
   },
   "source": [
    "### Non-pipelined v. pipelined\n",
    "\n",
    "![](../images/pipe4.png)\n",
    "\n",
    "- In a pipelined design, the clock cycle must have the worst-case clock cycle of 200 ps"
   ]
  },
  {
   "cell_type": "markdown",
   "id": "e9202c44",
   "metadata": {
    "slideshow": {
     "slide_type": "subslide"
    }
   },
   "source": [
    "### How do we measure the improvement?\n",
    "\n",
    "- From the example above with the execution of 3 instructions\n",
    "    - we get to an inprovement of $\\frac{2400}{1400} \\approx 1.7$\n",
    "\n",
    "- However, the improvement is actually of 4 times. \n",
    "    - How do we calculate that?\n",
    "    - What happens if we consider 1,000,000 instructions instead of 3?"
   ]
  },
  {
   "cell_type": "markdown",
   "id": "00e65cd0",
   "metadata": {
    "slideshow": {
     "slide_type": "slide"
    }
   },
   "source": [
    "## Pipeline hazards\n",
    "\n",
    "There are situations in pipelining when the next instruction cannot execute in the\n",
    "following clock cycle\n",
    "\n"
   ]
  },
  {
   "cell_type": "markdown",
   "id": "65e6ab59",
   "metadata": {
    "slideshow": {
     "slide_type": "subslide"
    }
   },
   "source": [
    "### Structural hazards\n",
    "\n",
    "The hardware cannot support the combination of instructions that are requested to be executed in the same clock cycle\n",
    "\n",
    "- Washer-dryer combination instead of a separate washer and dryer\n",
    "- MIPS has two memories. Without two memories, the pipeline could have a structural hazard \n",
    "    - accessing data v. fetching instruction"
   ]
  },
  {
   "cell_type": "markdown",
   "id": "b5b1d6eb",
   "metadata": {
    "slideshow": {
     "slide_type": "subslide"
    }
   },
   "source": [
    "### Data hazards\n",
    "\n",
    "The pipeline must be stalled because one step must wait for another to complete\n",
    "\n",
    "- Dependence of one instruction on an earlier one that is still in the pipeline\n",
    "\n",
    "```\n",
    "add $s0, $t0, $t1\n",
    "sub $t2, $s0, $t3\n",
    "```\n",
    "\n",
    "- The add instruction doesn’t write the result until the fifth stage. Three clock cycles in the pipeline are wasted\n",
    "\n",
    "    - Solution: waiting for instruction completion before trying to resolve the data hazard is not required\n",
    "    - As soon as the ALU creates the sum for the add, it can be supplied as an input for the subtract"
   ]
  },
  {
   "cell_type": "markdown",
   "id": "11c282bb",
   "metadata": {
    "slideshow": {
     "slide_type": "subslide"
    }
   },
   "source": [
    "### Forwarding or Bypassing\n",
    "\n",
    "- Extra hardware is added to retrieve the missing item early from the internal resources\n",
    "- Forwarding paths are valid only if the destination stage is later in time than the source stage\n",
    "\n",
    "![](../images/pipe5.png)"
   ]
  },
  {
   "cell_type": "markdown",
   "id": "1d05fc28",
   "metadata": {
    "slideshow": {
     "slide_type": "subslide"
    }
   },
   "source": [
    "### Stalling\n",
    "\n",
    "It cannot prevent all pipeline stalls. A stall is needed when an R-format instruction follows a load\n",
    "\n",
    "```\n",
    "load $s0, 20($t1)\n",
    "sub $t2, $s0, $t3\n",
    "```\n",
    "\n",
    "![](../images/pipe6.png)"
   ]
  },
  {
   "cell_type": "markdown",
   "id": "a5e322ee",
   "metadata": {
    "slideshow": {
     "slide_type": "subslide"
    }
   },
   "source": [
    "### Control hazards\n",
    "\n",
    "A decision is made based on the results of one instruction while others are executing\n",
    "\n",
    "- The instruction following the branch instruction must be fetched on the next clock cycle. Nevertheless, the pipeline cannot possibly know what is the next instruction\n",
    "\n",
    "- **Option 1:** after fetching a branch, wait until to determine the instruction address to fetch from (stall: larger slowdown)\n",
    "\n",
    "- **Option 2:** predicting what branches are taken and what are not. Dynamic hardware predictors provide behavioral-based prediction for each branch and may change predictions over the life of a program\n",
    "\n",
    "    - Analyze the history of taken or untaken branches to predict the future​"
   ]
  },
  {
   "cell_type": "markdown",
   "id": "8a13df85",
   "metadata": {
    "slideshow": {
     "slide_type": "subslide"
    }
   },
   "source": [
    "### Control hazards\n",
    "\n",
    "![](../images/pipe7.png)"
   ]
  },
  {
   "cell_type": "markdown",
   "id": "5dc401d5",
   "metadata": {
    "slideshow": {
     "slide_type": "subslide"
    }
   },
   "source": [
    "###  Delayed decision\n",
    "\n",
    "- **Option 3:** delayed decision (MIPS). The delayed branch always executes the next sequential instruction, with the branch taking place after that one instruction delay\n",
    "    - Execute something independent from the branch, so that cycle is not wasted\n",
    "- MIPS software always schedules a branch-independent instruction after the branch, and a taken branch changes the address of the instruction that follows this safe instruction"
   ]
  },
  {
   "cell_type": "markdown",
   "id": "815e8e30",
   "metadata": {
    "slideshow": {
     "slide_type": "slide"
    }
   },
   "source": [
    "## Pipelined datapath and control\n",
    "\n",
    "We can structure our datapath in a way that we can execute up to five instructions in the same cycle.\n",
    "\n",
    "We separate the instructions into five pieces:\n",
    "\n",
    "1. IF: Instruction fetch\n",
    "2. ID: Instruction decode and register fi le read\n",
    "3. EX: Execution or address calculation\n",
    "4. MEM: Data memory access\n",
    "5. WB: Write back"
   ]
  },
  {
   "cell_type": "markdown",
   "id": "349b951e",
   "metadata": {
    "slideshow": {
     "slide_type": "subslide"
    }
   },
   "source": [
    "### Pipelined datapath and control\n",
    "\n",
    "![](../images/pipe_dp1.png)"
   ]
  },
  {
   "cell_type": "markdown",
   "id": "c905e478",
   "metadata": {
    "slideshow": {
     "slide_type": "subslide"
    }
   },
   "source": [
    "### Pipelined execution\n",
    "\n",
    "Let's pretend each instruction has its own datapath\n",
    "\n",
    "![](../images/pipe_dp2.png)\n",
    "\n",
    "- to allow sharing of resources, we need to have registers wherever there are dividing lines\n",
    "    - for example: IM is used only in one stage, to retain the value (for the other four stages) we should move it to a register\n",
    "- in the laundry analogy, we need to have basket between each state to move the clothes around"
   ]
  },
  {
   "cell_type": "markdown",
   "id": "894c2ac3",
   "metadata": {
    "slideshow": {
     "slide_type": "subslide"
    }
   },
   "source": [
    "### Pipelined datapath with registers\n",
    "\n",
    "All instructions advance during each clock cycle from one pipeline register to the next\n",
    "\n",
    "![](../images/pipe_dp3.png)"
   ]
  },
  {
   "cell_type": "markdown",
   "id": "ca2b630f",
   "metadata": {
    "slideshow": {
     "slide_type": "subslide"
    }
   },
   "source": [
    "### Stage 1\n",
    "\n",
    "- Example: lw instruction\n",
    "- Increment address (PC+4) is saved in the IF/ID pipeline register to be used later (e.g. BEQ) \n",
    "\n",
    "![](../images/pipe_dp4.png)"
   ]
  },
  {
   "cell_type": "markdown",
   "id": "2698e5f7",
   "metadata": {
    "slideshow": {
     "slide_type": "subslide"
    }
   },
   "source": [
    "### Stage 2\n",
    "\n",
    "- 16-bit immediate instruction field, two registers numbers and the incremented PC are stored in in the ID/EX pipeline register.\n",
    "\n",
    "![](../images/pipe_dp5.png)\n"
   ]
  },
  {
   "cell_type": "markdown",
   "id": "31fb325f",
   "metadata": {
    "slideshow": {
     "slide_type": "subslide"
    }
   },
   "source": [
    "### Stage 3\n",
    "\n",
    "- ALU calculates the memory address and saves then in the EX/MEM pipeline register\n",
    "\n",
    "![](../images/pipe_dp6.png)"
   ]
  },
  {
   "cell_type": "markdown",
   "id": "1657be29",
   "metadata": {
    "slideshow": {
     "slide_type": "subslide"
    }
   },
   "source": [
    "### Stage 4\n",
    "\n",
    "- Data memory is read using the address from EX/MEM and loading the data in MEM/WB pipeline register\n",
    "\n",
    "![](../images/pipe_dp7.png)"
   ]
  },
  {
   "cell_type": "markdown",
   "id": "f370129b",
   "metadata": {
    "slideshow": {
     "slide_type": "subslide"
    }
   },
   "source": [
    "### Stage 5\n",
    "\n",
    "- Data memory is read from MEM/WB and written into the destination register file \n",
    "- The destination register number must be preserved along the stages\n",
    "\n",
    "![](../images/pipe_dp8.png)\n",
    "\n",
    "**Problem:** The instruction in the IF/ID pipeline register supplies the write register number. **This value gets overwritten by the next instruction**"
   ]
  },
  {
   "cell_type": "markdown",
   "id": "cb508d45",
   "metadata": {
    "slideshow": {
     "slide_type": "subslide"
    }
   },
   "source": [
    "### Corrected pipeline\n",
    "\n",
    "![](../images/pipe_dp9.png)"
   ]
  },
  {
   "cell_type": "markdown",
   "id": "07a2cc16",
   "metadata": {
    "slideshow": {
     "slide_type": "slide"
    }
   },
   "source": [
    "### Control values\n",
    "\n",
    "The control values stayed the same but we still need registers to preserve their state\n",
    "\n",
    "![](../images/pipe_dp10.png)"
   ]
  },
  {
   "cell_type": "markdown",
   "id": "62cd7f04",
   "metadata": {
    "slideshow": {
     "slide_type": "subslide"
    }
   },
   "source": [
    "### Control values pipeline\n",
    "\n",
    "Control signals are used in the appropriate pipeline stage as the instruction moves down the pipeline​\n",
    "\n",
    "![](../images/pipe_dp11.png)"
   ]
  },
  {
   "cell_type": "markdown",
   "id": "094f73c8",
   "metadata": {
    "slideshow": {
     "slide_type": "subslide"
    }
   },
   "source": [
    "### Full pipeline\n",
    "\n",
    "![](../images/pipe_dp12.png)"
   ]
  }
 ],
 "metadata": {
  "celltoolbar": "Slideshow",
  "kernelspec": {
   "display_name": "Python 3",
   "language": "python",
   "name": "python3"
  },
  "language_info": {
   "codemirror_mode": {
    "name": "ipython",
    "version": 3
   },
   "file_extension": ".py",
   "mimetype": "text/x-python",
   "name": "python",
   "nbconvert_exporter": "python",
   "pygments_lexer": "ipython3",
   "version": "3.8.8"
  }
 },
 "nbformat": 4,
 "nbformat_minor": 5
}
