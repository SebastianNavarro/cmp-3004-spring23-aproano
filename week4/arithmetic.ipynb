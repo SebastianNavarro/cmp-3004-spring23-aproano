{
 "cells": [
  {
   "cell_type": "markdown",
   "id": "c4079ebb",
   "metadata": {
    "slideshow": {
     "slide_type": "slide"
    }
   },
   "source": [
    "## CMP-3004\n",
    "## Computer Organization\n",
    "\n",
    "### Spring 2023\n"
   ]
  },
  {
   "cell_type": "markdown",
   "id": "162e915e",
   "metadata": {
    "slideshow": {
     "slide_type": "subslide"
    }
   },
   "source": [
    "## Signed addition and substraction\n",
    "\n",
    "![](../images/comp2.png)\n",
    "\n",
    "Note that numbers starting at 1 followed with only 0's result on the same representation for positive and negative\n",
    "- This cases need to be carefully considered"
   ]
  },
  {
   "cell_type": "markdown",
   "id": "bf5e2bdc",
   "metadata": {
    "slideshow": {
     "slide_type": "subslide"
    }
   },
   "source": [
    "## Signed addition and substraction\n",
    "\n",
    "If we use sign-magnitude:\n",
    "- Discard the signs\n",
    "- Perform the operation (addition or substraction)\n",
    "- Compute the sign\n",
    "\n",
    "If we use two's complement representation:\n",
    "- If substraction, get the two's complement of the value to be substracted\n",
    "- Perform the addition\n",
    "- Result contains the right sign unless an overflow occurred\n"
   ]
  },
  {
   "cell_type": "markdown",
   "id": "27d41f72",
   "metadata": {
    "slideshow": {
     "slide_type": "subslide"
    }
   },
   "source": [
    "### Signed addition and substraction\n",
    "\n",
    "![](../images/subs.png)\n",
    "\n",
    "- (a)  and (d) are straightforward\n",
    "- (b), (e) and (g) have an overflow from bit 3.\n",
    "    - Discard the overflow, result is correct\n",
    "- (c) and (f) result exceeded the allowable range of 4-bit\n",
    "    - Discard these out-of-the-range cases\n"
   ]
  },
  {
   "cell_type": "markdown",
   "id": "04b93fed",
   "metadata": {
    "slideshow": {
     "slide_type": "subslide"
    }
   },
   "source": [
    "### Other arithmetic operations in the ALU\n",
    "\n",
    "- ADD\n",
    "- ADD with carry\n",
    "- SUBSTRACT\n",
    "- SUBSTRACT with borrow\n",
    "- NEGATE\n",
    "- INCREMENT\n",
    "- DECREMENT\n",
    "- PASS THROUGH"
   ]
  },
  {
   "cell_type": "markdown",
   "id": "738ce0ae",
   "metadata": {
    "slideshow": {
     "slide_type": "subslide"
    }
   },
   "source": [
    "### Logical operations\n",
    "\n",
    "- AND\n",
    "- OR \n",
    "- XOR\n",
    "- NOT\n",
    "- Check if a number is negative, all zeros, all ones, etc\n"
   ]
  },
  {
   "cell_type": "markdown",
   "id": "24b00c3c",
   "metadata": {
    "slideshow": {
     "slide_type": "subslide"
    }
   },
   "source": [
    "### ALU\n",
    "\n",
    "![](../images/alu.png)"
   ]
  },
  {
   "cell_type": "markdown",
   "id": "8e7df036",
   "metadata": {
    "slideshow": {
     "slide_type": "slide"
    }
   },
   "source": [
    "## Multiplication\n",
    "\n",
    "![](../images/mult.png)\n",
    "\n",
    "What gate can be used for 1-bit multiplication?\n",
    "\n",
    "A simple way to do multiplication is by performing repetitive sums\n",
    "- If we multiply $6x4$ we simply add 6 to itself 4 times\n",
    "- It uses an adder circuit and takes longer\n",
    "- Usually part of simpler ALUs"
   ]
  },
  {
   "cell_type": "markdown",
   "id": "fbe9d883",
   "metadata": {
    "slideshow": {
     "slide_type": "subslide"
    }
   },
   "source": [
    "### Arithmetic right-shift  \n",
    "\n",
    "![](../images/shift.png)\n",
    "\n",
    "- The most signigicant bit remains unchanged\n",
    "    - sign bit for sign-magnitude representation"
   ]
  },
  {
   "cell_type": "markdown",
   "id": "34dc2cfe",
   "metadata": {
    "slideshow": {
     "slide_type": "subslide"
    }
   },
   "source": [
    "### Registers used in Booth's algorithm\n",
    "\n",
    "![](../images/booth_reg.png)\n"
   ]
  },
  {
   "cell_type": "markdown",
   "id": "d08ec8a1",
   "metadata": {
    "slideshow": {
     "slide_type": "subslide"
    }
   },
   "source": [
    "### Right-shift operation\n",
    "\n",
    "![](../images/booth_shift.png)"
   ]
  },
  {
   "cell_type": "markdown",
   "id": "1e894416",
   "metadata": {
    "slideshow": {
     "slide_type": "subslide"
    }
   },
   "source": [
    "### Booth's algorithm\n",
    "\n",
    "![](../images/booth_algo.png)"
   ]
  },
  {
   "cell_type": "markdown",
   "id": "e775d634",
   "metadata": {
    "slideshow": {
     "slide_type": "subslide"
    }
   },
   "source": [
    "## Example:\n",
    "\n",
    "Inputs:\n",
    "\n",
    "- 101\n",
    "- 100"
   ]
  }
 ],
 "metadata": {
  "celltoolbar": "Slideshow",
  "kernelspec": {
   "display_name": "Python 3",
   "language": "python",
   "name": "python3"
  },
  "language_info": {
   "codemirror_mode": {
    "name": "ipython",
    "version": 3
   },
   "file_extension": ".py",
   "mimetype": "text/x-python",
   "name": "python",
   "nbconvert_exporter": "python",
   "pygments_lexer": "ipython3",
   "version": "3.8.8"
  }
 },
 "nbformat": 4,
 "nbformat_minor": 5
}
